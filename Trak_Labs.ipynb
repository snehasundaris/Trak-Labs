{
  "nbformat": 4,
  "nbformat_minor": 0,
  "metadata": {
    "colab": {
      "name": "Trak Labs",
      "provenance": [],
      "collapsed_sections": []
    },
    "kernelspec": {
      "name": "python3",
      "display_name": "Python 3"
    },
    "language_info": {
      "name": "python"
    }
  },
  "cells": [
    {
      "cell_type": "code",
      "metadata": {
        "id": "LKoxC3drG4PQ"
      },
      "source": [
        "import mysql.connector\n",
        "con = mysql.connector.connect(\n",
        "    host=\"localhost\", user=\"root\", password=\"password\", database=\"Employee\")"
      ],
      "execution_count": null,
      "outputs": []
    },
    {
      "cell_type": "code",
      "metadata": {
        "id": "0JhkaC_4G6Ac"
      },
      "source": [
        "#deleting \n",
        "def Remove_Employee():\n",
        "    Id = input(\"Enter Employee_Id : \")\n",
        "    if(check_Employee(Id) == False):\n",
        "        print(\"doesnt exist\")\n",
        "        menu()\n",
        "      else:\n",
        "        sql = 'delete from Employee_Id where id=%s'\n",
        "        data = (Id,)\n",
        "        c.execute(sql, data)\n",
        "        con.commit()\n",
        "        print(\"Employee has been deleted\")\n",
        "        menu()\n",
        "       "
      ],
      "execution_count": null,
      "outputs": []
    },
    {
      "cell_type": "code",
      "metadata": {
        "id": "XpWIYPO7G8N6"
      },
      "source": [
        "#inserting values\n",
        "class Employee:\n",
        "        count=0\n",
        "        def __init__(Emp_Id,Emp_Name,Age):\n",
        "            self.Emp_Id=Emp_Id\n",
        "            self.Emp_Name=Emp_Name\n",
        "            self.Age=Age\n",
        "            Employee.count+=1\n",
        "e1=Employee(2, \"Sneha\", 40)\n",
        "e2=Employee(3, \"Prakash\", 36)\n",
        "e3=Employee(4, \"Swaroop\", 55)\n",
        "e4=Employee(5, \"Kala\", 60)\n",
        "e4.displayCount()\n",
        "print(\"Details of all employee:\")\n",
        "e1.displayDetails()\n",
        "e2.displayDetails()\n",
        "e3.displayDetails()\n",
        "e4.displayDetails()\n"
      ],
      "execution_count": null,
      "outputs": []
    },
    {
      "cell_type": "code",
      "metadata": {
        "id": "dnQLwAi8G-lV"
      },
      "source": [
        "#updating\n",
        "Employee = {'Emp_Id':2,'Emp_Name'='Sneha','age':40}\n",
        "Employee['Emp_Name'] = 'Snehaa'\n",
        "Employee\n",
        "{'Emp_Name': 20000, 'Emp_Id': 2, 'Age': 40}"
      ],
      "execution_count": null,
      "outputs": []
    }
  ]
}